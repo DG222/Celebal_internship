{
 "cells": [
  {
   "cell_type": "code",
   "execution_count": null,
   "id": "72698a8c-922c-40f4-a03b-f58f2ff39c47",
   "metadata": {},
   "outputs": [],
   "source": []
  }
 ],
 "metadata": {
  "kernelspec": {
   "display_name": "",
   "name": ""
  },
  "language_info": {
   "name": ""
  }
 },
 "nbformat": 4,
 "nbformat_minor": 5
}
